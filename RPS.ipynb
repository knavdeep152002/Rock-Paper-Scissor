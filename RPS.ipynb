{
 "metadata": {
  "language_info": {
   "codemirror_mode": {
    "name": "ipython",
    "version": 3
   },
   "file_extension": ".py",
   "mimetype": "text/x-python",
   "name": "python",
   "nbconvert_exporter": "python",
   "pygments_lexer": "ipython3",
   "version": "3.8.5-final"
  },
  "orig_nbformat": 2,
  "kernelspec": {
   "name": "python3",
   "display_name": "Python 3",
   "language": "python"
  }
 },
 "nbformat": 4,
 "nbformat_minor": 2,
 "cells": [
  {
   "cell_type": "code",
   "execution_count": 1,
   "metadata": {},
   "outputs": [],
   "source": [
    "import numpy as np"
   ]
  },
  {
   "cell_type": "code",
   "execution_count": 2,
   "metadata": {},
   "outputs": [],
   "source": [
    "x_train = np.array([[1],[2],[3],[4],[5],[6],[7],[8],[9],[10]])\n",
    "y_train = np.array([0,1,2,0,1,2,0,1,2,0])\n",
    "y_train = y_train.reshape(len(y_train),1)"
   ]
  },
  {
   "cell_type": "code",
   "execution_count": 3,
   "metadata": {},
   "outputs": [],
   "source": [
    "from sklearn.preprocessing import StandardScaler\n",
    "sc = StandardScaler()\n",
    "x_train_sc = sc.fit_transform(x_train)"
   ]
  },
  {
   "cell_type": "code",
   "execution_count": 4,
   "metadata": {},
   "outputs": [
    {
     "output_type": "execute_result",
     "data": {
      "text/plain": [
       "SVC()"
      ]
     },
     "metadata": {},
     "execution_count": 4
    }
   ],
   "source": [
    "from sklearn.svm import SVC\n",
    "classifier = SVC(kernel='rbf')\n",
    "classifier.fit(x_train_sc,y_train.ravel())"
   ]
  },
  {
   "cell_type": "code",
   "execution_count": 5,
   "metadata": {},
   "outputs": [
    {
     "output_type": "stream",
     "name": "stdout",
     "text": [
      "Enter your choice: Tie\n",
      "Enter your choice: Tie\n",
      "Enter your choice: Lose\n",
      "Enter your choice: Tie\n",
      "Enter your choice: Win\n",
      "Enter your choice: Win\n",
      "Enter your choice: Lose\n",
      "Enter your choice: Tie\n",
      "Enter your choice: Tie\n",
      "Enter your choice: Win\n",
      "Enter your choice: Win\n",
      "Enter your choice: Win\n",
      "Enter your choice: Lose\n",
      "Enter your choice: Lose\n",
      "Enter your choice: Win\n",
      "Enter your choice: Win\n",
      "Enter your choice: Win\n",
      "Enter your choice: Lose\n",
      "Enter your choice: Win\n",
      "Enter your choice: Win\n",
      "Enter your choice: Win\n",
      "Enter your choice: Win\n",
      "Enter your choice: Win\n",
      "Enter your choice: Lose\n",
      "Enter your choice: Win\n",
      "Enter your choice: Win\n",
      "Enter your choice: Win\n",
      "Enter your choice: Win\n",
      "Enter your choice: Lose\n",
      "Enter your choice: Win\n",
      "Enter your choice: Win\n",
      "Enter your choice: Win\n",
      "Enter your choice: Win\n",
      "Enter your choice: Lose\n",
      "Enter your choice: Win\n",
      "Enter your choice: Win\n",
      "Enter your choice: Win\n",
      "Enter your choice: Win\n",
      "Enter your choice: Lose\n",
      "OK Saar We Enjoyed A Lot!\n"
     ]
    }
   ],
   "source": [
    "round = 11\n",
    "while True:\n",
    "  if round>=50:\n",
    "      print(\"OK Saar We Enjoyed A Lot!\")\n",
    "      break\n",
    "  print(\"Enter your choice:\",end=' ')\n",
    "  n = int(input())\n",
    "  system = classifier.predict(sc.transform([[round]]))\n",
    "  x_train = list(x_train)\n",
    "  x_train.append([11])\n",
    "  x_train = np.array(x_train)\n",
    "  x_train_sc = sc.fit_transform(x_train)\n",
    "  y_train = list(y_train)\n",
    "  y_train.append([(n+1)%3])\n",
    "  y_train = np.array(y_train)\n",
    "  classifier.fit(x_train_sc,y_train.ravel())\n",
    "  if n==system:\n",
    "    print(\"Tie\")\n",
    "  elif (n+1)%3 == system:\n",
    "    print(\"Lose\")\n",
    "  else:\n",
    "    print(\"Win\")\n",
    "  round+=1"
   ]
  }
 ]
}